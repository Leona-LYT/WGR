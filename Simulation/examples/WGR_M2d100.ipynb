{
 "cells": [
  {
   "cell_type": "code",
   "execution_count": 1,
   "id": "29f863c7-52e9-4f51-ae00-bc3c97f2ba53",
   "metadata": {},
   "outputs": [
    {
     "data": {
      "text/plain": [
       "'\\nincase the above code does not work, you can use the absolute path instead\\nsys.path.append(r\".\")\\n'"
      ]
     },
     "execution_count": 1,
     "metadata": {},
     "output_type": "execute_result"
    }
   ],
   "source": [
    "import sys\n",
    "import os\n",
    "current_dir = os.getcwd()  #use to import the defined functions\n",
    "parent_dir = os.path.dirname(current_dir) \n",
    "sys.path.append(parent_dir)  \n",
    "\n",
    "\"\"\"\n",
    "incase the above code does not work, you can use the absolute path instead\n",
    "sys.path.append(r\".\\\")\n",
    "\"\"\"\n"
   ]
  },
  {
   "cell_type": "code",
   "execution_count": 2,
   "id": "09f578f4-d40c-4e9c-b234-ea17249bff03",
   "metadata": {},
   "outputs": [],
   "source": [
    "import torch\n",
    "import torch.nn as nn\n",
    "import numpy as np\n",
    "from torch.utils.data import TensorDataset, DataLoader\n",
    "import torch.optim as optim\n",
    "from torch.optim.lr_scheduler import ReduceLROnPlateau "
   ]
  },
  {
   "cell_type": "code",
   "execution_count": 3,
   "id": "6ec819f9-bbc8-4b4f-bb26-cf48a2ce0333",
   "metadata": {},
   "outputs": [],
   "source": [
    "from utils.basic_utils import setup_seed\n",
    "from data.SimulationData import DataGenerator \n",
    "from utils.evaluation_utils import L1L2_MSE_mean_sd_G, MSE_quantile_G_uniY\n",
    "from models.generator import generator_fnn\n",
    "from models.discriminator import discriminator_fnn\n",
    "from utils.training_utils import train_WGR_fnn"
   ]
  },
  {
   "cell_type": "code",
   "execution_count": 4,
   "id": "e82f422a-70a8-4191-b99d-16612d3dbef0",
   "metadata": {},
   "outputs": [
    {
     "name": "stdout",
     "output_type": "stream",
     "text": [
      "Namespace(Xdim=100, Ydim=1, model='M2', noise_dim=5, noise_dist='gaussian', train=5000, val=1000, test=1000, train_batch=128, val_batch=100, test_batch=100, epochs=50, reps=100)\n"
     ]
    }
   ],
   "source": [
    "import argparse\n",
    "\n",
    "if 'ipykernel_launcher.py' in sys.argv[0]:  #if not work in jupyter, you can delete this part\n",
    "    import sys\n",
    "    sys.argv = [sys.argv[0]] \n",
    "\n",
    "\n",
    "parser = argparse.ArgumentParser(description='Implementation of WGR for M1')\n",
    "\n",
    "parser.add_argument('--Xdim', default=100, type=int, help='dimensionality of X')\n",
    "parser.add_argument('--Ydim', default=1, type=int, help='dimensionality of Y')\n",
    "parser.add_argument('--model', default='M2', type=str, help='model')\n",
    "\n",
    "parser.add_argument('--noise_dim', default=5, type=int, help='dimensionality of noise vector')\n",
    "parser.add_argument('--noise_dist', default='gaussian', type=str, help='distribution of noise vector')\n",
    "\n",
    "parser.add_argument('--train', default=5000, type=int, help='size of train dataset')\n",
    "parser.add_argument('--val', default=1000, type=int, help='size of validation dataset')\n",
    "parser.add_argument('--test', default=1000, type=int, help='size of test dataset')\n",
    "\n",
    "parser.add_argument('--train_batch', default=128, type=int, metavar='BS', help='batch size while training')\n",
    "parser.add_argument('--val_batch', default=100, type=int, metavar='BS', help='batch size while validation')\n",
    "parser.add_argument('--test_batch', default=100, type=int, metavar='BS', help='batch size while testing')\n",
    "parser.add_argument('--epochs', default=50, type=int, help='number of epochs to train')\n",
    "parser.add_argument('--reps', default=100, type=int, help='number of replications')\n",
    "\n",
    "args = parser.parse_args()\n",
    "\n",
    "print(args)"
   ]
  },
  {
   "cell_type": "code",
   "execution_count": 5,
   "id": "a1c1b44a-0c6c-478a-b807-e5e1da20a1ee",
   "metadata": {},
   "outputs": [],
   "source": [
    "# Set seed \n",
    "setup_seed(5678)"
   ]
  },
  {
   "cell_type": "code",
   "execution_count": 6,
   "id": "177a8bd5-74a6-4ffe-ab47-e2e7cc821c35",
   "metadata": {},
   "outputs": [],
   "source": [
    "# Generate data from M2\n",
    "data_gen = DataGenerator(args)\n",
    "DATA = data_gen.generate_data(args.model)\n",
    "train_X, train_Y = DATA['train_X'], DATA['train_Y']\n",
    "val_X, val_Y = DATA['val_X'], DATA['val_Y']\n",
    "test_X, test_Y = DATA['test_X'], DATA['test_Y']"
   ]
  },
  {
   "cell_type": "code",
   "execution_count": 7,
   "id": "de288fbd-c582-4ad8-b10d-59b3d145e2a9",
   "metadata": {},
   "outputs": [],
   "source": [
    "# Create TensorDatasets and initialize a DataLoaders\n",
    "train_dataset = TensorDataset( train_X.float(), train_Y.float() )\n",
    "loader_train = DataLoader(train_dataset , batch_size=args.train_batch, shuffle=True)\n",
    "\n",
    "val_dataset = TensorDataset( val_X.float(), val_Y.float() )\n",
    "loader_val = DataLoader(val_dataset , batch_size=args.val_batch, shuffle=True)\n",
    "\n",
    "test_dataset = TensorDataset( test_X.float(), test_Y.float() )\n",
    "loader_test  = DataLoader(test_dataset , batch_size=args.test_batch, shuffle=True)"
   ]
  },
  {
   "cell_type": "code",
   "execution_count": 8,
   "id": "20bb4d11-47ef-4e17-9852-27ea723f271c",
   "metadata": {},
   "outputs": [],
   "source": [
    "# Define generator network and discriminator network\n",
    "G_net = generator_fnn(Xdim=args.Xdim, Ydim=args.Ydim, noise_dim=args.noise_dim, hidden_dims = [64, 32])\n",
    "D_net = discriminator_fnn(input_dim=args.Xdim+args.Ydim, hidden_dims = [64, 32])"
   ]
  },
  {
   "cell_type": "code",
   "execution_count": 9,
   "id": "08ccda7e-1d68-4ff1-9e4b-d5caa66dcf81",
   "metadata": {},
   "outputs": [],
   "source": [
    "# Initialize RMSprop optimizers\n",
    "D_solver = optim.Adam(D_net.parameters(), lr=0.001, betas=(0.9, 0.999))\n",
    "G_solver = optim.Adam(G_net.parameters(), lr=0.001, betas=(0.9, 0.999))                    \n"
   ]
  },
  {
   "cell_type": "code",
   "execution_count": 10,
   "id": "c643e20e-1daf-420e-9145-fac2f3c39e32",
   "metadata": {},
   "outputs": [
    {
     "name": "stdout",
     "output_type": "stream",
     "text": [
      "Mean L1 Loss: 6.373467, Mean L2 Loss: 76.939835\n",
      "Epoch 0 - D Loss: 2.6990, G Loss: 7.6139\n",
      "Epoch 1 - D Loss: -0.1232, G Loss: 3.3094\n",
      "Epoch 2 - D Loss: 0.6822, G Loss: 2.0006\n",
      "Epoch 3 - D Loss: 0.2756, G Loss: 2.7350\n",
      "Epoch 4 - D Loss: 0.1968, G Loss: 3.1655\n",
      "Epoch 5 - D Loss: 0.1221, G Loss: 3.2244\n",
      "Epoch 6 - D Loss: 0.0160, G Loss: 3.0822\n",
      "Epoch 7 - D Loss: -0.1925, G Loss: 3.1527\n",
      "Epoch 8 - D Loss: -0.2466, G Loss: 2.7734\n",
      "Epoch 9 - D Loss: -0.1924, G Loss: 1.8155\n",
      "Epoch 10 - D Loss: 0.0666, G Loss: 0.9272\n",
      "Epoch 11 - D Loss: 0.1927, G Loss: 0.2418\n",
      "Epoch 12 - D Loss: 0.0986, G Loss: -0.2478\n",
      "Epoch 13 - D Loss: 0.0416, G Loss: -0.1663\n",
      "Epoch 14 - D Loss: 0.0272, G Loss: -0.2624\n",
      "Epoch 15 - D Loss: 0.0175, G Loss: -0.4495\n",
      "Epoch 16 - D Loss: -0.0005, G Loss: -0.2597\n",
      "Epoch 17 - D Loss: -0.0102, G Loss: -0.4273\n",
      "Epoch 18 - D Loss: -0.0132, G Loss: -0.4771\n",
      "Epoch 19 - D Loss: -0.0029, G Loss: -0.2872\n",
      "Epoch 20 - D Loss: -0.0013, G Loss: -0.3947\n",
      "Epoch 21 - D Loss: 0.0027, G Loss: -0.4534\n",
      "Epoch 22 - D Loss: 0.0047, G Loss: -0.5604\n",
      "Epoch 23 - D Loss: 0.0103, G Loss: -0.5295\n",
      "Epoch 24 - D Loss: 0.0049, G Loss: -0.7818\n",
      "Mean L1 Loss: 1.102331, Mean L2 Loss: 2.390446\n",
      "Epoch 25, Iter 1000, D Loss: 0.0073, G Loss: -0.8065, L1: 1.1023, L2: 2.3904\n",
      "Saved best model with L2: 2.3904\n",
      "Epoch 25 - D Loss: 0.0076, G Loss: -0.8389\n",
      "Mean L1 Loss: 1.102533, Mean L2 Loss: 2.300433\n",
      "Epoch 26, Iter 1050, D Loss: 0.0029, G Loss: -0.8798, L1: 1.1025, L2: 2.3004\n",
      "Saved best model with L2: 2.3004\n",
      "Epoch 26 - D Loss: 0.0035, G Loss: -0.8857\n",
      "Epoch 27 - D Loss: 0.0029, G Loss: -0.9677\n",
      "Mean L1 Loss: 1.089743, Mean L2 Loss: 2.214501\n",
      "Epoch 28, Iter 1100, D Loss: 0.0066, G Loss: -1.0400, L1: 1.0897, L2: 2.2145\n",
      "Saved best model with L2: 2.2145\n",
      "Epoch 28 - D Loss: 0.0035, G Loss: -1.0729\n",
      "Mean L1 Loss: 1.123179, Mean L2 Loss: 2.255675\n",
      "Epoch 29, Iter 1150, D Loss: -0.0020, G Loss: -1.0290, L1: 1.1232, L2: 2.2557\n",
      "Epoch 29 - D Loss: 0.0037, G Loss: -1.0577\n",
      "Mean L1 Loss: 1.082171, Mean L2 Loss: 2.134108\n",
      "Epoch 30, Iter 1200, D Loss: 0.0061, G Loss: -1.2124, L1: 1.0822, L2: 2.1341\n",
      "Saved best model with L2: 2.1341\n",
      "Epoch 30 - D Loss: 0.0065, G Loss: -1.1747\n",
      "Epoch 31 - D Loss: 0.0025, G Loss: -1.2157\n",
      "Mean L1 Loss: 1.102434, Mean L2 Loss: 2.128339\n",
      "Epoch 32, Iter 1250, D Loss: -0.0023, G Loss: -0.9275, L1: 1.1024, L2: 2.1283\n",
      "Saved best model with L2: 2.1283\n",
      "Epoch 32 - D Loss: 0.0045, G Loss: -1.2643\n",
      "Mean L1 Loss: 1.108089, Mean L2 Loss: 2.244796\n",
      "Epoch 33, Iter 1300, D Loss: 0.0024, G Loss: -1.2405, L1: 1.1081, L2: 2.2448\n",
      "Epoch 33 - D Loss: 0.0021, G Loss: -1.3261\n",
      "Mean L1 Loss: 1.083042, Mean L2 Loss: 2.059334\n",
      "Epoch 34, Iter 1350, D Loss: 0.0047, G Loss: -1.3258, L1: 1.0830, L2: 2.0593\n",
      "Saved best model with L2: 2.0593\n",
      "Epoch 34 - D Loss: 0.0041, G Loss: -1.3438\n",
      "Mean L1 Loss: 1.089808, Mean L2 Loss: 2.106912\n",
      "Epoch 35, Iter 1400, D Loss: 0.0033, G Loss: -1.4235, L1: 1.0898, L2: 2.1069\n",
      "Epoch 35 - D Loss: 0.0032, G Loss: -1.4304\n",
      "Epoch 36 - D Loss: 0.0038, G Loss: -1.4289\n",
      "Mean L1 Loss: 1.082281, Mean L2 Loss: 2.055697\n",
      "Epoch 37, Iter 1450, D Loss: 0.0098, G Loss: -1.4580, L1: 1.0823, L2: 2.0557\n",
      "Saved best model with L2: 2.0557\n",
      "Epoch 37 - D Loss: 0.0033, G Loss: -1.4786\n",
      "Mean L1 Loss: 1.113015, Mean L2 Loss: 2.150177\n",
      "Epoch 38, Iter 1500, D Loss: 0.0046, G Loss: -1.4765, L1: 1.1130, L2: 2.1502\n",
      "Epoch 38 - D Loss: 0.0031, G Loss: -1.5224\n",
      "Mean L1 Loss: 1.066974, Mean L2 Loss: 1.953814\n",
      "Epoch 39, Iter 1550, D Loss: 0.0043, G Loss: -1.5169, L1: 1.0670, L2: 1.9538\n",
      "Saved best model with L2: 1.9538\n",
      "Epoch 39 - D Loss: 0.0051, G Loss: -1.5080\n",
      "Epoch 40 - D Loss: 0.0042, G Loss: -1.5553\n",
      "Mean L1 Loss: 1.069583, Mean L2 Loss: 1.994698\n",
      "Epoch 41, Iter 1600, D Loss: 0.0017, G Loss: -1.6045, L1: 1.0696, L2: 1.9947\n",
      "Epoch 41 - D Loss: 0.0050, G Loss: -1.5720\n",
      "Mean L1 Loss: 1.092406, Mean L2 Loss: 2.033751\n",
      "Epoch 42, Iter 1650, D Loss: 0.0029, G Loss: -1.5623, L1: 1.0924, L2: 2.0338\n",
      "Epoch 42 - D Loss: 0.0052, G Loss: -1.5958\n",
      "Mean L1 Loss: 1.089022, Mean L2 Loss: 2.111067\n",
      "Epoch 43, Iter 1700, D Loss: 0.0048, G Loss: -1.6412, L1: 1.0890, L2: 2.1111\n",
      "Epoch 43 - D Loss: 0.0047, G Loss: -1.5927\n",
      "Mean L1 Loss: 1.075067, Mean L2 Loss: 1.976894\n",
      "Epoch 44, Iter 1750, D Loss: 0.0026, G Loss: -1.6372, L1: 1.0751, L2: 1.9769\n",
      "Epoch 44 - D Loss: 0.0023, G Loss: -1.6325\n",
      "Epoch 45 - D Loss: 0.0033, G Loss: -1.6703\n",
      "Mean L1 Loss: 1.102460, Mean L2 Loss: 2.202015\n",
      "Epoch 46, Iter 1800, D Loss: 0.0012, G Loss: -1.6359, L1: 1.1025, L2: 2.2020\n",
      "Epoch 46 - D Loss: 0.0047, G Loss: -1.6872\n",
      "Mean L1 Loss: 1.071722, Mean L2 Loss: 1.969985\n",
      "Epoch 47, Iter 1850, D Loss: 0.0024, G Loss: -1.6401, L1: 1.0717, L2: 1.9700\n",
      "Epoch 47 - D Loss: 0.0036, G Loss: -1.6693\n",
      "Mean L1 Loss: 1.081221, Mean L2 Loss: 2.023008\n",
      "Epoch 48, Iter 1900, D Loss: 0.0039, G Loss: -1.6786, L1: 1.0812, L2: 2.0230\n",
      "Epoch 48 - D Loss: 0.0040, G Loss: -1.6805\n",
      "Mean L1 Loss: 1.084707, Mean L2 Loss: 2.020422\n",
      "Epoch 49, Iter 1950, D Loss: 0.0032, G Loss: -1.6768, L1: 1.0847, L2: 2.0204\n",
      "Epoch 49 - D Loss: 0.0032, G Loss: -1.6768\n"
     ]
    }
   ],
   "source": [
    "# Training\n",
    "trained_G, trained_D = train_WGR_fnn(D=D_net, G=G_net, D_solver=D_solver, G_solver=G_solver, \n",
    "                                     loader_train = loader_train, loader_val=loader_val,\n",
    "                                     noise_dim=args.noise_dim, Xdim=args.Xdim, Ydim=args.Ydim, batch_size=args.train_batch,\n",
    "                                     save_path='./', model_type=args.model, device='cpu', num_epochs=args.epochs)"
   ]
  },
  {
   "cell_type": "code",
   "execution_count": 11,
   "id": "daf00ecd-57df-4b58-841e-932233afcf78",
   "metadata": {},
   "outputs": [
    {
     "name": "stdout",
     "output_type": "stream",
     "text": [
      "Model: M2, Univariate, Ydim: 1, J_t_size: 50\n",
      "L1 Loss: tensor([1.0359])\n",
      "L2 Loss: tensor([1.8766])\n",
      "MSE Mean: tensor([1.0441])\n",
      "MSE SD: tensor([0.2740])\n"
     ]
    }
   ],
   "source": [
    "# Calculate the L1 and L2 error, MSE of conditional mean and conditional standard deviation on the test data  \n",
    "test_G_mean_sd = L1L2_MSE_mean_sd_G(G = trained_G,  test_size = args.test, noise_dim=args.noise_dim, Xdim=args.Xdim,\n",
    "                                    batch_size=args.test_batch,  model_type=args.model, loader_dataset = loader_test )"
   ]
  },
  {
   "cell_type": "code",
   "execution_count": 12,
   "id": "a53a40ac-b651-443f-8476-bbc9949dbeca",
   "metadata": {},
   "outputs": [
    {
     "name": "stdout",
     "output_type": "stream",
     "text": [
      "Q_5: 2.9268, Q_25: 1.0383, Q_50: 1.1733, Q_75: 1.2645, Q_95: 1.2070\n"
     ]
    }
   ],
   "source": [
    "# Calculate the MSE of conditional quantiles at different levels.\n",
    "test_G_quantile = MSE_quantile_G_uniY(G = trained_G, loader_dataset = loader_test , noise_dim=args.noise_dim, Xdim=args.Xdim,\n",
    "                                      test_size = args.test,  batch_size=args.test_batch, model_type=args.model)"
   ]
  },
  {
   "cell_type": "code",
   "execution_count": null,
   "id": "237c8597-3088-42a8-9fee-59bc17a4b5fd",
   "metadata": {},
   "outputs": [],
   "source": []
  }
 ],
 "metadata": {
  "kernelspec": {
   "display_name": "Python 3 (ipykernel)",
   "language": "python",
   "name": "python3"
  },
  "language_info": {
   "codemirror_mode": {
    "name": "ipython",
    "version": 3
   },
   "file_extension": ".py",
   "mimetype": "text/x-python",
   "name": "python",
   "nbconvert_exporter": "python",
   "pygments_lexer": "ipython3",
   "version": "3.11.10"
  }
 },
 "nbformat": 4,
 "nbformat_minor": 5
}
